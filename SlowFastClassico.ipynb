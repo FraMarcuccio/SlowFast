{
  "nbformat": 4,
  "nbformat_minor": 0,
  "metadata": {
    "colab": {
      "name": "SlowFastC3D.ipynb",
      "provenance": [],
      "collapsed_sections": [
        "XnMvPBuJ4Q1R",
        "yldA4pEiNvJk",
        "EFwK7R8zNorn"
      ],
      "toc_visible": true
    },
    "kernelspec": {
      "name": "python3",
      "display_name": "Python 3"
    },
    "accelerator": "GPU",
    "widgets": {
      "application/vnd.jupyter.widget-state+json": {
        "5a1e8fda1c034c4880893afc485de216": {
          "model_module": "@jupyter-widgets/controls",
          "model_name": "HBoxModel",
          "state": {
            "_view_name": "HBoxView",
            "_dom_classes": [],
            "_model_name": "HBoxModel",
            "_view_module": "@jupyter-widgets/controls",
            "_model_module_version": "1.5.0",
            "_view_count": null,
            "_view_module_version": "1.5.0",
            "box_style": "",
            "layout": "IPY_MODEL_ff5143a8064e481098431c11daa30039",
            "_model_module": "@jupyter-widgets/controls",
            "children": [
              "IPY_MODEL_5fd62a2307db4650b102cb3b150d0cd5",
              "IPY_MODEL_9d56a0afa84343dabe98daf6e327882b"
            ]
          }
        },
        "ff5143a8064e481098431c11daa30039": {
          "model_module": "@jupyter-widgets/base",
          "model_name": "LayoutModel",
          "state": {
            "_view_name": "LayoutView",
            "grid_template_rows": null,
            "right": null,
            "justify_content": null,
            "_view_module": "@jupyter-widgets/base",
            "overflow": null,
            "_model_module_version": "1.2.0",
            "_view_count": null,
            "flex_flow": null,
            "width": null,
            "min_width": null,
            "border": null,
            "align_items": null,
            "bottom": null,
            "_model_module": "@jupyter-widgets/base",
            "top": null,
            "grid_column": null,
            "overflow_y": null,
            "overflow_x": null,
            "grid_auto_flow": null,
            "grid_area": null,
            "grid_template_columns": null,
            "flex": null,
            "_model_name": "LayoutModel",
            "justify_items": null,
            "grid_row": null,
            "max_height": null,
            "align_content": null,
            "visibility": null,
            "align_self": null,
            "height": null,
            "min_height": null,
            "padding": null,
            "grid_auto_rows": null,
            "grid_gap": null,
            "max_width": null,
            "order": null,
            "_view_module_version": "1.2.0",
            "grid_template_areas": null,
            "object_position": null,
            "object_fit": null,
            "grid_auto_columns": null,
            "margin": null,
            "display": null,
            "left": null
          }
        },
        "5fd62a2307db4650b102cb3b150d0cd5": {
          "model_module": "@jupyter-widgets/controls",
          "model_name": "FloatProgressModel",
          "state": {
            "_view_name": "ProgressView",
            "style": "IPY_MODEL_ec85e1ce8975492ab953c51dc53497dc",
            "_dom_classes": [],
            "description": "100%",
            "_model_name": "FloatProgressModel",
            "bar_style": "success",
            "max": 3,
            "_view_module": "@jupyter-widgets/controls",
            "_model_module_version": "1.5.0",
            "value": 3,
            "_view_count": null,
            "_view_module_version": "1.5.0",
            "orientation": "horizontal",
            "min": 0,
            "description_tooltip": null,
            "_model_module": "@jupyter-widgets/controls",
            "layout": "IPY_MODEL_de60a547f2134fc4a9f6907a89b91763"
          }
        },
        "9d56a0afa84343dabe98daf6e327882b": {
          "model_module": "@jupyter-widgets/controls",
          "model_name": "HTMLModel",
          "state": {
            "_view_name": "HTMLView",
            "style": "IPY_MODEL_7582e3fdfbc6449bafda6ea741731be4",
            "_dom_classes": [],
            "description": "",
            "_model_name": "HTMLModel",
            "placeholder": "​",
            "_view_module": "@jupyter-widgets/controls",
            "_model_module_version": "1.5.0",
            "value": " 3/3 [00:06&lt;00:00,  2.13s/it]",
            "_view_count": null,
            "_view_module_version": "1.5.0",
            "description_tooltip": null,
            "_model_module": "@jupyter-widgets/controls",
            "layout": "IPY_MODEL_fb06ed05e96f442e875f7203f628a2f2"
          }
        },
        "ec85e1ce8975492ab953c51dc53497dc": {
          "model_module": "@jupyter-widgets/controls",
          "model_name": "ProgressStyleModel",
          "state": {
            "_view_name": "StyleView",
            "_model_name": "ProgressStyleModel",
            "description_width": "initial",
            "_view_module": "@jupyter-widgets/base",
            "_model_module_version": "1.5.0",
            "_view_count": null,
            "_view_module_version": "1.2.0",
            "bar_color": null,
            "_model_module": "@jupyter-widgets/controls"
          }
        },
        "de60a547f2134fc4a9f6907a89b91763": {
          "model_module": "@jupyter-widgets/base",
          "model_name": "LayoutModel",
          "state": {
            "_view_name": "LayoutView",
            "grid_template_rows": null,
            "right": null,
            "justify_content": null,
            "_view_module": "@jupyter-widgets/base",
            "overflow": null,
            "_model_module_version": "1.2.0",
            "_view_count": null,
            "flex_flow": null,
            "width": null,
            "min_width": null,
            "border": null,
            "align_items": null,
            "bottom": null,
            "_model_module": "@jupyter-widgets/base",
            "top": null,
            "grid_column": null,
            "overflow_y": null,
            "overflow_x": null,
            "grid_auto_flow": null,
            "grid_area": null,
            "grid_template_columns": null,
            "flex": null,
            "_model_name": "LayoutModel",
            "justify_items": null,
            "grid_row": null,
            "max_height": null,
            "align_content": null,
            "visibility": null,
            "align_self": null,
            "height": null,
            "min_height": null,
            "padding": null,
            "grid_auto_rows": null,
            "grid_gap": null,
            "max_width": null,
            "order": null,
            "_view_module_version": "1.2.0",
            "grid_template_areas": null,
            "object_position": null,
            "object_fit": null,
            "grid_auto_columns": null,
            "margin": null,
            "display": null,
            "left": null
          }
        },
        "7582e3fdfbc6449bafda6ea741731be4": {
          "model_module": "@jupyter-widgets/controls",
          "model_name": "DescriptionStyleModel",
          "state": {
            "_view_name": "StyleView",
            "_model_name": "DescriptionStyleModel",
            "description_width": "",
            "_view_module": "@jupyter-widgets/base",
            "_model_module_version": "1.5.0",
            "_view_count": null,
            "_view_module_version": "1.2.0",
            "_model_module": "@jupyter-widgets/controls"
          }
        },
        "fb06ed05e96f442e875f7203f628a2f2": {
          "model_module": "@jupyter-widgets/base",
          "model_name": "LayoutModel",
          "state": {
            "_view_name": "LayoutView",
            "grid_template_rows": null,
            "right": null,
            "justify_content": null,
            "_view_module": "@jupyter-widgets/base",
            "overflow": null,
            "_model_module_version": "1.2.0",
            "_view_count": null,
            "flex_flow": null,
            "width": null,
            "min_width": null,
            "border": null,
            "align_items": null,
            "bottom": null,
            "_model_module": "@jupyter-widgets/base",
            "top": null,
            "grid_column": null,
            "overflow_y": null,
            "overflow_x": null,
            "grid_auto_flow": null,
            "grid_area": null,
            "grid_template_columns": null,
            "flex": null,
            "_model_name": "LayoutModel",
            "justify_items": null,
            "grid_row": null,
            "max_height": null,
            "align_content": null,
            "visibility": null,
            "align_self": null,
            "height": null,
            "min_height": null,
            "padding": null,
            "grid_auto_rows": null,
            "grid_gap": null,
            "max_width": null,
            "order": null,
            "_view_module_version": "1.2.0",
            "grid_template_areas": null,
            "object_position": null,
            "object_fit": null,
            "grid_auto_columns": null,
            "margin": null,
            "display": null,
            "left": null
          }
        },
        "c38202b859f449b08c9313d62efbd7b6": {
          "model_module": "@jupyter-widgets/controls",
          "model_name": "HBoxModel",
          "state": {
            "_view_name": "HBoxView",
            "_dom_classes": [],
            "_model_name": "HBoxModel",
            "_view_module": "@jupyter-widgets/controls",
            "_model_module_version": "1.5.0",
            "_view_count": null,
            "_view_module_version": "1.5.0",
            "box_style": "",
            "layout": "IPY_MODEL_8b569de4766c403ab339725f4cb04bef",
            "_model_module": "@jupyter-widgets/controls",
            "children": [
              "IPY_MODEL_fd553f0fbbb6491ebe672003a590143c",
              "IPY_MODEL_3b28a29f23b04bdd999939966fbe6393"
            ]
          }
        },
        "8b569de4766c403ab339725f4cb04bef": {
          "model_module": "@jupyter-widgets/base",
          "model_name": "LayoutModel",
          "state": {
            "_view_name": "LayoutView",
            "grid_template_rows": null,
            "right": null,
            "justify_content": null,
            "_view_module": "@jupyter-widgets/base",
            "overflow": null,
            "_model_module_version": "1.2.0",
            "_view_count": null,
            "flex_flow": null,
            "width": null,
            "min_width": null,
            "border": null,
            "align_items": null,
            "bottom": null,
            "_model_module": "@jupyter-widgets/base",
            "top": null,
            "grid_column": null,
            "overflow_y": null,
            "overflow_x": null,
            "grid_auto_flow": null,
            "grid_area": null,
            "grid_template_columns": null,
            "flex": null,
            "_model_name": "LayoutModel",
            "justify_items": null,
            "grid_row": null,
            "max_height": null,
            "align_content": null,
            "visibility": null,
            "align_self": null,
            "height": null,
            "min_height": null,
            "padding": null,
            "grid_auto_rows": null,
            "grid_gap": null,
            "max_width": null,
            "order": null,
            "_view_module_version": "1.2.0",
            "grid_template_areas": null,
            "object_position": null,
            "object_fit": null,
            "grid_auto_columns": null,
            "margin": null,
            "display": null,
            "left": null
          }
        },
        "fd553f0fbbb6491ebe672003a590143c": {
          "model_module": "@jupyter-widgets/controls",
          "model_name": "FloatProgressModel",
          "state": {
            "_view_name": "ProgressView",
            "style": "IPY_MODEL_66eb9977cef04e32b5e9aa43068fee09",
            "_dom_classes": [],
            "description": "100%",
            "_model_name": "FloatProgressModel",
            "bar_style": "success",
            "max": 3,
            "_view_module": "@jupyter-widgets/controls",
            "_model_module_version": "1.5.0",
            "value": 3,
            "_view_count": null,
            "_view_module_version": "1.5.0",
            "orientation": "horizontal",
            "min": 0,
            "description_tooltip": null,
            "_model_module": "@jupyter-widgets/controls",
            "layout": "IPY_MODEL_a861f271106b430c91b0de57090c0503"
          }
        },
        "3b28a29f23b04bdd999939966fbe6393": {
          "model_module": "@jupyter-widgets/controls",
          "model_name": "HTMLModel",
          "state": {
            "_view_name": "HTMLView",
            "style": "IPY_MODEL_97a0d47e5e7844c69c1b422cbc634493",
            "_dom_classes": [],
            "description": "",
            "_model_name": "HTMLModel",
            "placeholder": "​",
            "_view_module": "@jupyter-widgets/controls",
            "_model_module_version": "1.5.0",
            "value": " 3/3 [15:07&lt;00:00, 302.44s/it]",
            "_view_count": null,
            "_view_module_version": "1.5.0",
            "description_tooltip": null,
            "_model_module": "@jupyter-widgets/controls",
            "layout": "IPY_MODEL_ef470cb6b638451cb981e6d61762c8ca"
          }
        },
        "66eb9977cef04e32b5e9aa43068fee09": {
          "model_module": "@jupyter-widgets/controls",
          "model_name": "ProgressStyleModel",
          "state": {
            "_view_name": "StyleView",
            "_model_name": "ProgressStyleModel",
            "description_width": "initial",
            "_view_module": "@jupyter-widgets/base",
            "_model_module_version": "1.5.0",
            "_view_count": null,
            "_view_module_version": "1.2.0",
            "bar_color": null,
            "_model_module": "@jupyter-widgets/controls"
          }
        },
        "a861f271106b430c91b0de57090c0503": {
          "model_module": "@jupyter-widgets/base",
          "model_name": "LayoutModel",
          "state": {
            "_view_name": "LayoutView",
            "grid_template_rows": null,
            "right": null,
            "justify_content": null,
            "_view_module": "@jupyter-widgets/base",
            "overflow": null,
            "_model_module_version": "1.2.0",
            "_view_count": null,
            "flex_flow": null,
            "width": null,
            "min_width": null,
            "border": null,
            "align_items": null,
            "bottom": null,
            "_model_module": "@jupyter-widgets/base",
            "top": null,
            "grid_column": null,
            "overflow_y": null,
            "overflow_x": null,
            "grid_auto_flow": null,
            "grid_area": null,
            "grid_template_columns": null,
            "flex": null,
            "_model_name": "LayoutModel",
            "justify_items": null,
            "grid_row": null,
            "max_height": null,
            "align_content": null,
            "visibility": null,
            "align_self": null,
            "height": null,
            "min_height": null,
            "padding": null,
            "grid_auto_rows": null,
            "grid_gap": null,
            "max_width": null,
            "order": null,
            "_view_module_version": "1.2.0",
            "grid_template_areas": null,
            "object_position": null,
            "object_fit": null,
            "grid_auto_columns": null,
            "margin": null,
            "display": null,
            "left": null
          }
        },
        "97a0d47e5e7844c69c1b422cbc634493": {
          "model_module": "@jupyter-widgets/controls",
          "model_name": "DescriptionStyleModel",
          "state": {
            "_view_name": "StyleView",
            "_model_name": "DescriptionStyleModel",
            "description_width": "",
            "_view_module": "@jupyter-widgets/base",
            "_model_module_version": "1.5.0",
            "_view_count": null,
            "_view_module_version": "1.2.0",
            "_model_module": "@jupyter-widgets/controls"
          }
        },
        "ef470cb6b638451cb981e6d61762c8ca": {
          "model_module": "@jupyter-widgets/base",
          "model_name": "LayoutModel",
          "state": {
            "_view_name": "LayoutView",
            "grid_template_rows": null,
            "right": null,
            "justify_content": null,
            "_view_module": "@jupyter-widgets/base",
            "overflow": null,
            "_model_module_version": "1.2.0",
            "_view_count": null,
            "flex_flow": null,
            "width": null,
            "min_width": null,
            "border": null,
            "align_items": null,
            "bottom": null,
            "_model_module": "@jupyter-widgets/base",
            "top": null,
            "grid_column": null,
            "overflow_y": null,
            "overflow_x": null,
            "grid_auto_flow": null,
            "grid_area": null,
            "grid_template_columns": null,
            "flex": null,
            "_model_name": "LayoutModel",
            "justify_items": null,
            "grid_row": null,
            "max_height": null,
            "align_content": null,
            "visibility": null,
            "align_self": null,
            "height": null,
            "min_height": null,
            "padding": null,
            "grid_auto_rows": null,
            "grid_gap": null,
            "max_width": null,
            "order": null,
            "_view_module_version": "1.2.0",
            "grid_template_areas": null,
            "object_position": null,
            "object_fit": null,
            "grid_auto_columns": null,
            "margin": null,
            "display": null,
            "left": null
          }
        }
      }
    }
  },
  "cells": [
    {
      "cell_type": "code",
      "metadata": {
        "id": "N7y05f6n5Vdh"
      },
      "source": [
        "from google.colab import drive\n",
        "drive.mount('/content/drive')"
      ],
      "execution_count": null,
      "outputs": []
    },
    {
      "cell_type": "code",
      "metadata": {
        "id": "dxHT3jBOLqLX",
        "colab": {
          "base_uri": "https://localhost:8080/"
        },
        "outputId": "047d1583-e93a-4652-d831-5c4950a7b97d"
      },
      "source": [
        "!sudo apt-get install -y python-dev pkg-config\n",
        "!sudo apt-get install -y \\\n",
        "    libavformat-dev libavcodec-dev libavdevice-dev \\\n",
        "    libavutil-dev libswscale-dev libswresample-dev libavfilter-dev\n",
        "!pip install av\n",
        "!pip install -i https://test.pypi.org/simple/ supportlib\n",
        "import supportlib.gettingdata as getdata\n",
        "import av\n",
        "import glob\n",
        "import os\n",
        "import time\n",
        "import tqdm\n",
        "import datetime\n",
        "import argparse"
      ],
      "execution_count": null,
      "outputs": [
        {
          "output_type": "stream",
          "text": [
            "Reading package lists... Done\n",
            "Building dependency tree       \n",
            "Reading state information... Done\n",
            "pkg-config is already the newest version (0.29.1-0ubuntu2).\n",
            "python-dev is already the newest version (2.7.15~rc1-1).\n",
            "0 upgraded, 0 newly installed, 0 to remove and 14 not upgraded.\n",
            "Reading package lists... Done\n",
            "Building dependency tree       \n",
            "Reading state information... Done\n",
            "libavcodec-dev is already the newest version (7:3.4.8-0ubuntu0.2).\n",
            "libavcodec-dev set to manually installed.\n",
            "libavformat-dev is already the newest version (7:3.4.8-0ubuntu0.2).\n",
            "libavformat-dev set to manually installed.\n",
            "libavutil-dev is already the newest version (7:3.4.8-0ubuntu0.2).\n",
            "libavutil-dev set to manually installed.\n",
            "libswresample-dev is already the newest version (7:3.4.8-0ubuntu0.2).\n",
            "libswresample-dev set to manually installed.\n",
            "libswscale-dev is already the newest version (7:3.4.8-0ubuntu0.2).\n",
            "libswscale-dev set to manually installed.\n",
            "The following additional packages will be installed:\n",
            "  libpostproc-dev\n",
            "The following NEW packages will be installed:\n",
            "  libavdevice-dev libavfilter-dev libpostproc-dev\n",
            "0 upgraded, 3 newly installed, 0 to remove and 14 not upgraded.\n",
            "Need to get 1,154 kB of archives.\n",
            "After this operation, 5,444 kB of additional disk space will be used.\n",
            "Get:1 http://archive.ubuntu.com/ubuntu bionic-updates/universe amd64 libpostproc-dev amd64 7:3.4.8-0ubuntu0.2 [51.0 kB]\n",
            "Get:2 http://archive.ubuntu.com/ubuntu bionic-updates/universe amd64 libavfilter-dev amd64 7:3.4.8-0ubuntu0.2 [1,016 kB]\n",
            "Get:3 http://archive.ubuntu.com/ubuntu bionic-updates/universe amd64 libavdevice-dev amd64 7:3.4.8-0ubuntu0.2 [87.2 kB]\n",
            "Fetched 1,154 kB in 1s (1,568 kB/s)\n",
            "debconf: unable to initialize frontend: Dialog\n",
            "debconf: (No usable dialog-like program is installed, so the dialog based frontend cannot be used. at /usr/share/perl5/Debconf/FrontEnd/Dialog.pm line 76, <> line 3.)\n",
            "debconf: falling back to frontend: Readline\n",
            "debconf: unable to initialize frontend: Readline\n",
            "debconf: (This frontend requires a controlling tty.)\n",
            "debconf: falling back to frontend: Teletype\n",
            "dpkg-preconfigure: unable to re-open stdin: \n",
            "Selecting previously unselected package libpostproc-dev:amd64.\n",
            "(Reading database ... 144865 files and directories currently installed.)\n",
            "Preparing to unpack .../libpostproc-dev_7%3a3.4.8-0ubuntu0.2_amd64.deb ...\n",
            "Unpacking libpostproc-dev:amd64 (7:3.4.8-0ubuntu0.2) ...\n",
            "Selecting previously unselected package libavfilter-dev:amd64.\n",
            "Preparing to unpack .../libavfilter-dev_7%3a3.4.8-0ubuntu0.2_amd64.deb ...\n",
            "Unpacking libavfilter-dev:amd64 (7:3.4.8-0ubuntu0.2) ...\n",
            "Selecting previously unselected package libavdevice-dev:amd64.\n",
            "Preparing to unpack .../libavdevice-dev_7%3a3.4.8-0ubuntu0.2_amd64.deb ...\n",
            "Unpacking libavdevice-dev:amd64 (7:3.4.8-0ubuntu0.2) ...\n",
            "Setting up libpostproc-dev:amd64 (7:3.4.8-0ubuntu0.2) ...\n",
            "Setting up libavfilter-dev:amd64 (7:3.4.8-0ubuntu0.2) ...\n",
            "Setting up libavdevice-dev:amd64 (7:3.4.8-0ubuntu0.2) ...\n",
            "Collecting av\n",
            "\u001b[?25l  Downloading https://files.pythonhosted.org/packages/9e/62/9a992be76f8e13ce0e3a24a838191b546805545116f9fc869bd11bd21b5f/av-8.0.2-cp36-cp36m-manylinux2010_x86_64.whl (36.9MB)\n",
            "\u001b[K     |████████████████████████████████| 36.9MB 87kB/s \n",
            "\u001b[?25hInstalling collected packages: av\n",
            "Successfully installed av-8.0.2\n",
            "Looking in indexes: https://test.pypi.org/simple/\n",
            "Collecting supportlib\n",
            "  Downloading https://test-files.pythonhosted.org/packages/c7/e8/a44bb606fca2603f0c79e8593fe0f6f1626dee5bad5177afb9ee260fd223/supportlib-0.1.0-py3-none-any.whl\n",
            "Installing collected packages: supportlib\n",
            "Successfully installed supportlib-0.1.0\n"
          ],
          "name": "stdout"
        }
      ]
    },
    {
      "cell_type": "markdown",
      "metadata": {
        "id": "XnMvPBuJ4Q1R"
      },
      "source": [
        "# Preprocessing Datasets"
      ]
    },
    {
      "cell_type": "code",
      "metadata": {
        "id": "BJEavZjGLx5c"
      },
      "source": [
        "def video_to_frame(path,out_path):\n",
        "    vidcap = cv2.VideoCapture(path)\n",
        "    success,image = vidcap.read()\n",
        "    count = 0\n",
        "    while success:\n",
        "      cv2.imwrite(os.path.join(out_path,\"{}.jpg\".format(count)), image)\n",
        "      success,image = vidcap.read()\n",
        "      count += 1"
      ],
      "execution_count": null,
      "outputs": []
    },
    {
      "cell_type": "code",
      "metadata": {
        "id": "kJ_JWODgL3Nh"
      },
      "source": [
        "def extract_frames(video_path):\n",
        "    frames = []\n",
        "    try:\n",
        "      video = av.open(video_path)\n",
        "      for frame in video.decode(0):\n",
        "        try:\n",
        "          yield frame.to_image()\n",
        "        except:\n",
        "          print(\"Fail inner\")\n",
        "    except:\n",
        "      print(\"FAIL x\")"
      ],
      "execution_count": null,
      "outputs": []
    },
    {
      "cell_type": "code",
      "metadata": {
        "id": "84x-tHe1v34R",
        "colab": {
          "base_uri": "https://localhost:8080/"
        },
        "outputId": "3873efd7-d436-4fa0-c378-e179bce9f807"
      },
      "source": [
        "%cd /content/drive/My Drive/Datasets"
      ],
      "execution_count": null,
      "outputs": [
        {
          "output_type": "stream",
          "text": [
            "/content/drive/My Drive/Datasets\n"
          ],
          "name": "stdout"
        }
      ]
    },
    {
      "cell_type": "code",
      "metadata": {
        "id": "TrSSAt9cv9DU",
        "colab": {
          "base_uri": "https://localhost:8080/"
        },
        "outputId": "c891c615-7d4e-4fac-a4b4-ec1d52c793fd"
      },
      "source": [
        "!ls"
      ],
      "execution_count": null,
      "outputs": [
        {
          "output_type": "stream",
          "text": [
            "MioDataset  RisultatoMD  RisultatoMDX\n"
          ],
          "name": "stdout"
        }
      ]
    },
    {
      "cell_type": "code",
      "metadata": {
        "id": "AfLztqtXxkZ1",
        "colab": {
          "base_uri": "https://localhost:8080/",
          "height": 119,
          "referenced_widgets": [
            "5a1e8fda1c034c4880893afc485de216",
            "ff5143a8064e481098431c11daa30039",
            "5fd62a2307db4650b102cb3b150d0cd5",
            "9d56a0afa84343dabe98daf6e327882b",
            "ec85e1ce8975492ab953c51dc53497dc",
            "de60a547f2134fc4a9f6907a89b91763",
            "7582e3fdfbc6449bafda6ea741731be4",
            "fb06ed05e96f442e875f7203f628a2f2"
          ]
        },
        "outputId": "bc1af48a-96a5-42ac-943c-3ad2ad8f8555"
      },
      "source": [
        "# UCF3\n",
        "from tqdm.autonotebook import tqdm\n",
        "path = '/content/drive/My Drive/Datasets/MioDataset' # '/content/Anomaly_Dataset/Anomaly_Videos/Anomaly-Videos-Part-1'\n",
        "result = '/content/drive/My Drive/Datasets/RisultatoMD' # '/content/Dataset'\n",
        "\n",
        "for i in tqdm(os.listdir(path)):\n",
        "  p1 = os.path.join(path,i)\n",
        "  r1 = os.path.join(result,i)\n",
        "  if os.path.exists(r1):\n",
        "            continue\n",
        "  os.makedirs(r1,exist_ok = True)\n",
        "  for j in os.listdir(p1):\n",
        "    vid_path = os.path.join(p1,j)\n",
        "    r2 = os.path.join(r1,j[:-4])\n",
        "    os.makedirs(r2,exist_ok = True)\n",
        "    for j, frame in enumerate((extract_frames(vid_path))):\n",
        "      frame.save(os.path.join(r2, f\"{j}.jpg\"))"
      ],
      "execution_count": null,
      "outputs": [
        {
          "output_type": "stream",
          "text": [
            "/usr/local/lib/python3.6/dist-packages/ipykernel_launcher.py:2: TqdmExperimentalWarning: Using `tqdm.autonotebook.tqdm` in notebook mode. Use `tqdm.tqdm` instead to force console mode (e.g. in jupyter console)\n",
            "  \n"
          ],
          "name": "stderr"
        },
        {
          "output_type": "display_data",
          "data": {
            "application/vnd.jupyter.widget-view+json": {
              "model_id": "5a1e8fda1c034c4880893afc485de216",
              "version_minor": 0,
              "version_major": 2
            },
            "text/plain": [
              "HBox(children=(FloatProgress(value=0.0, max=3.0), HTML(value='')))"
            ]
          },
          "metadata": {
            "tags": []
          }
        },
        {
          "output_type": "stream",
          "text": [
            "\n"
          ],
          "name": "stdout"
        }
      ]
    },
    {
      "cell_type": "code",
      "metadata": {
        "id": "2Idsz1xWzaVW"
      },
      "source": [
        "# UCF3\n",
        "path = '/content/drive/My Drive/Datasets/RisultatoMD'\n",
        "res = '/content/drive/My Drive/Datasets/RisultatoMDX'"
      ],
      "execution_count": null,
      "outputs": []
    },
    {
      "cell_type": "code",
      "metadata": {
        "id": "mMLpaafOyxJb"
      },
      "source": [
        "# path = '/content/Dataset'\n",
        "# res = '/content/crimeX'\n",
        "seq_length = 16\n",
        "import numpy as np\n",
        "import cv2\n",
        "\n",
        "def preprocess_data(seq_length,path,res):\n",
        "  dir = os.listdir(path)\n",
        "  for i in tqdm(dir):\n",
        "      p1 = os.path.join(path,i)\n",
        "      r1 = os.path.join(res,i)\n",
        "      os.makedirs(r1,exist_ok = True)\n",
        "      for j in os.listdir(p1):\n",
        "          p2 = os.path.join(p1,j)\n",
        "          r2 = os.path.join(r1,j)\n",
        "          l = 0\n",
        "          skip_length = int(len(os.listdir(p2))/seq_length)\n",
        "          for m in range(10):\n",
        "              k = m\n",
        "              while(l!=seq_length):\n",
        "                p3 = os.path.join(p2,str(k) + \".jpg\")\n",
        "                try:\n",
        "                  img = cv2.imread(p3)\n",
        "                  img = cv2.resize(img,(128,128))\n",
        "                  if(k==0):\n",
        "                    img1 = img\n",
        "                  else:\n",
        "                    img1 = np.append(img1,img,axis = 1)\n",
        "                except:\n",
        "                  print(\"oh Shit \",p3)\n",
        "                k = k+skip_length\n",
        "                l = l+1  \n",
        "              cv2.imwrite(r2 + str(m)+\".jpg\",img1)"
      ],
      "execution_count": null,
      "outputs": []
    },
    {
      "cell_type": "code",
      "metadata": {
        "id": "9U2w0kPKNnj3",
        "colab": {
          "base_uri": "https://localhost:8080/",
          "height": 1000,
          "referenced_widgets": [
            "c38202b859f449b08c9313d62efbd7b6",
            "8b569de4766c403ab339725f4cb04bef",
            "fd553f0fbbb6491ebe672003a590143c",
            "3b28a29f23b04bdd999939966fbe6393",
            "66eb9977cef04e32b5e9aa43068fee09",
            "a861f271106b430c91b0de57090c0503",
            "97a0d47e5e7844c69c1b422cbc634493",
            "ef470cb6b638451cb981e6d61762c8ca"
          ]
        },
        "outputId": "e1ccab57-4cb0-4967-ab34-34ea37921274"
      },
      "source": [
        "preprocess_data(seq_length,path,res)"
      ],
      "execution_count": null,
      "outputs": [
        {
          "output_type": "display_data",
          "data": {
            "application/vnd.jupyter.widget-view+json": {
              "model_id": "c38202b859f449b08c9313d62efbd7b6",
              "version_minor": 0,
              "version_major": 2
            },
            "text/plain": [
              "HBox(children=(FloatProgress(value=0.0, max=3.0), HTML(value='')))"
            ]
          },
          "metadata": {
            "tags": []
          }
        },
        {
          "output_type": "stream",
          "text": [
            "oh Shit  /content/drive/My Drive/Datasets/RisultatoMD/Risse/af23710e-d89f-4b17-a3d4-cf0a71a3c28f/0.jpg\n",
            "oh Shit  /content/drive/My Drive/Datasets/RisultatoMD/Risse/af23710e-d89f-4b17-a3d4-cf0a71a3c28f/0.jpg\n",
            "oh Shit  /content/drive/My Drive/Datasets/RisultatoMD/Risse/af23710e-d89f-4b17-a3d4-cf0a71a3c28f/0.jpg\n",
            "oh Shit  /content/drive/My Drive/Datasets/RisultatoMD/Risse/af23710e-d89f-4b17-a3d4-cf0a71a3c28f/0.jpg\n",
            "oh Shit  /content/drive/My Drive/Datasets/RisultatoMD/Risse/af23710e-d89f-4b17-a3d4-cf0a71a3c28f/0.jpg\n",
            "oh Shit  /content/drive/My Drive/Datasets/RisultatoMD/Risse/af23710e-d89f-4b17-a3d4-cf0a71a3c28f/0.jpg\n",
            "oh Shit  /content/drive/My Drive/Datasets/RisultatoMD/Risse/af23710e-d89f-4b17-a3d4-cf0a71a3c28f/0.jpg\n",
            "oh Shit  /content/drive/My Drive/Datasets/RisultatoMD/Risse/af23710e-d89f-4b17-a3d4-cf0a71a3c28f/0.jpg\n",
            "oh Shit  /content/drive/My Drive/Datasets/RisultatoMD/Risse/af23710e-d89f-4b17-a3d4-cf0a71a3c28f/0.jpg\n",
            "oh Shit  /content/drive/My Drive/Datasets/RisultatoMD/Risse/af23710e-d89f-4b17-a3d4-cf0a71a3c28f/0.jpg\n",
            "oh Shit  /content/drive/My Drive/Datasets/RisultatoMD/Risse/af23710e-d89f-4b17-a3d4-cf0a71a3c28f/0.jpg\n",
            "oh Shit  /content/drive/My Drive/Datasets/RisultatoMD/Risse/af23710e-d89f-4b17-a3d4-cf0a71a3c28f/0.jpg\n",
            "oh Shit  /content/drive/My Drive/Datasets/RisultatoMD/Risse/af23710e-d89f-4b17-a3d4-cf0a71a3c28f/0.jpg\n",
            "oh Shit  /content/drive/My Drive/Datasets/RisultatoMD/Risse/af23710e-d89f-4b17-a3d4-cf0a71a3c28f/0.jpg\n",
            "oh Shit  /content/drive/My Drive/Datasets/RisultatoMD/Risse/af23710e-d89f-4b17-a3d4-cf0a71a3c28f/0.jpg\n",
            "oh Shit  /content/drive/My Drive/Datasets/RisultatoMD/Risse/af23710e-d89f-4b17-a3d4-cf0a71a3c28f/0.jpg\n",
            "oh Shit  /content/drive/My Drive/Datasets/RisultatoMD/Risse/t_video5839176977155623271/0.jpg\n",
            "oh Shit  /content/drive/My Drive/Datasets/RisultatoMD/Risse/t_video5839176977155623271/0.jpg\n",
            "oh Shit  /content/drive/My Drive/Datasets/RisultatoMD/Risse/t_video5839176977155623271/0.jpg\n",
            "oh Shit  /content/drive/My Drive/Datasets/RisultatoMD/Risse/t_video5839176977155623271/0.jpg\n",
            "oh Shit  /content/drive/My Drive/Datasets/RisultatoMD/Risse/t_video5839176977155623271/0.jpg\n",
            "oh Shit  /content/drive/My Drive/Datasets/RisultatoMD/Risse/t_video5839176977155623271/0.jpg\n",
            "oh Shit  /content/drive/My Drive/Datasets/RisultatoMD/Risse/t_video5839176977155623271/0.jpg\n",
            "oh Shit  /content/drive/My Drive/Datasets/RisultatoMD/Risse/t_video5839176977155623271/0.jpg\n",
            "oh Shit  /content/drive/My Drive/Datasets/RisultatoMD/Risse/t_video5839176977155623271/0.jpg\n",
            "oh Shit  /content/drive/My Drive/Datasets/RisultatoMD/Risse/t_video5839176977155623271/0.jpg\n",
            "oh Shit  /content/drive/My Drive/Datasets/RisultatoMD/Risse/t_video5839176977155623271/0.jpg\n",
            "oh Shit  /content/drive/My Drive/Datasets/RisultatoMD/Risse/t_video5839176977155623271/0.jpg\n",
            "oh Shit  /content/drive/My Drive/Datasets/RisultatoMD/Risse/t_video5839176977155623271/0.jpg\n",
            "oh Shit  /content/drive/My Drive/Datasets/RisultatoMD/Risse/t_video5839176977155623271/0.jpg\n",
            "oh Shit  /content/drive/My Drive/Datasets/RisultatoMD/Risse/t_video5839176977155623271/0.jpg\n",
            "oh Shit  /content/drive/My Drive/Datasets/RisultatoMD/Risse/t_video5839176977155623271/0.jpg\n",
            "oh Shit  /content/drive/My Drive/Datasets/RisultatoMD/Risse/t_video4974375450861109510/0.jpg\n",
            "oh Shit  /content/drive/My Drive/Datasets/RisultatoMD/Risse/t_video4974375450861109510/0.jpg\n",
            "oh Shit  /content/drive/My Drive/Datasets/RisultatoMD/Risse/t_video4974375450861109510/0.jpg\n",
            "oh Shit  /content/drive/My Drive/Datasets/RisultatoMD/Risse/t_video4974375450861109510/0.jpg\n",
            "oh Shit  /content/drive/My Drive/Datasets/RisultatoMD/Risse/t_video4974375450861109510/0.jpg\n",
            "oh Shit  /content/drive/My Drive/Datasets/RisultatoMD/Risse/t_video4974375450861109510/0.jpg\n",
            "oh Shit  /content/drive/My Drive/Datasets/RisultatoMD/Risse/t_video4974375450861109510/0.jpg\n",
            "oh Shit  /content/drive/My Drive/Datasets/RisultatoMD/Risse/t_video4974375450861109510/0.jpg\n",
            "oh Shit  /content/drive/My Drive/Datasets/RisultatoMD/Risse/t_video4974375450861109510/0.jpg\n",
            "oh Shit  /content/drive/My Drive/Datasets/RisultatoMD/Risse/t_video4974375450861109510/0.jpg\n",
            "oh Shit  /content/drive/My Drive/Datasets/RisultatoMD/Risse/t_video4974375450861109510/0.jpg\n",
            "oh Shit  /content/drive/My Drive/Datasets/RisultatoMD/Risse/t_video4974375450861109510/0.jpg\n",
            "oh Shit  /content/drive/My Drive/Datasets/RisultatoMD/Risse/t_video4974375450861109510/0.jpg\n",
            "oh Shit  /content/drive/My Drive/Datasets/RisultatoMD/Risse/t_video4974375450861109510/0.jpg\n",
            "oh Shit  /content/drive/My Drive/Datasets/RisultatoMD/Risse/t_video4974375450861109510/0.jpg\n",
            "oh Shit  /content/drive/My Drive/Datasets/RisultatoMD/Risse/t_video4974375450861109510/0.jpg\n",
            "oh Shit  /content/drive/My Drive/Datasets/RisultatoMD/Risse/t_video4976627250674794758/0.jpg\n",
            "oh Shit  /content/drive/My Drive/Datasets/RisultatoMD/Risse/t_video4976627250674794758/0.jpg\n",
            "oh Shit  /content/drive/My Drive/Datasets/RisultatoMD/Risse/t_video4976627250674794758/0.jpg\n",
            "oh Shit  /content/drive/My Drive/Datasets/RisultatoMD/Risse/t_video4976627250674794758/0.jpg\n",
            "oh Shit  /content/drive/My Drive/Datasets/RisultatoMD/Risse/t_video4976627250674794758/0.jpg\n",
            "oh Shit  /content/drive/My Drive/Datasets/RisultatoMD/Risse/t_video4976627250674794758/0.jpg\n",
            "oh Shit  /content/drive/My Drive/Datasets/RisultatoMD/Risse/t_video4976627250674794758/0.jpg\n",
            "oh Shit  /content/drive/My Drive/Datasets/RisultatoMD/Risse/t_video4976627250674794758/0.jpg\n",
            "oh Shit  /content/drive/My Drive/Datasets/RisultatoMD/Risse/t_video4976627250674794758/0.jpg\n",
            "oh Shit  /content/drive/My Drive/Datasets/RisultatoMD/Risse/t_video4976627250674794758/0.jpg\n",
            "oh Shit  /content/drive/My Drive/Datasets/RisultatoMD/Risse/t_video4976627250674794758/0.jpg\n",
            "oh Shit  /content/drive/My Drive/Datasets/RisultatoMD/Risse/t_video4976627250674794758/0.jpg\n",
            "oh Shit  /content/drive/My Drive/Datasets/RisultatoMD/Risse/t_video4976627250674794758/0.jpg\n",
            "oh Shit  /content/drive/My Drive/Datasets/RisultatoMD/Risse/t_video4976627250674794758/0.jpg\n",
            "oh Shit  /content/drive/My Drive/Datasets/RisultatoMD/Risse/t_video4976627250674794758/0.jpg\n",
            "oh Shit  /content/drive/My Drive/Datasets/RisultatoMD/Risse/t_video4976627250674794758/0.jpg\n",
            "oh Shit  /content/drive/My Drive/Datasets/RisultatoMD/Risse/t_video4976627250674794759/0.jpg\n",
            "oh Shit  /content/drive/My Drive/Datasets/RisultatoMD/Risse/t_video4976627250674794759/0.jpg\n",
            "oh Shit  /content/drive/My Drive/Datasets/RisultatoMD/Risse/t_video4976627250674794759/0.jpg\n",
            "oh Shit  /content/drive/My Drive/Datasets/RisultatoMD/Risse/t_video4976627250674794759/0.jpg\n",
            "oh Shit  /content/drive/My Drive/Datasets/RisultatoMD/Risse/t_video4976627250674794759/0.jpg\n",
            "oh Shit  /content/drive/My Drive/Datasets/RisultatoMD/Risse/t_video4976627250674794759/0.jpg\n",
            "oh Shit  /content/drive/My Drive/Datasets/RisultatoMD/Risse/t_video4976627250674794759/0.jpg\n",
            "oh Shit  /content/drive/My Drive/Datasets/RisultatoMD/Risse/t_video4976627250674794759/0.jpg\n",
            "oh Shit  /content/drive/My Drive/Datasets/RisultatoMD/Risse/t_video4976627250674794759/0.jpg\n",
            "oh Shit  /content/drive/My Drive/Datasets/RisultatoMD/Risse/t_video4976627250674794759/0.jpg\n",
            "oh Shit  /content/drive/My Drive/Datasets/RisultatoMD/Risse/t_video4976627250674794759/0.jpg\n",
            "oh Shit  /content/drive/My Drive/Datasets/RisultatoMD/Risse/t_video4976627250674794759/0.jpg\n",
            "oh Shit  /content/drive/My Drive/Datasets/RisultatoMD/Risse/t_video4976627250674794759/0.jpg\n",
            "oh Shit  /content/drive/My Drive/Datasets/RisultatoMD/Risse/t_video4976627250674794759/0.jpg\n",
            "oh Shit  /content/drive/My Drive/Datasets/RisultatoMD/Risse/t_video4976627250674794759/0.jpg\n",
            "oh Shit  /content/drive/My Drive/Datasets/RisultatoMD/Risse/t_video4976627250674794759/0.jpg\n",
            "oh Shit  /content/drive/My Drive/Datasets/RisultatoMD/Risse/t_video4976627250674794766/0.jpg\n",
            "oh Shit  /content/drive/My Drive/Datasets/RisultatoMD/Risse/t_video4976627250674794766/0.jpg\n",
            "oh Shit  /content/drive/My Drive/Datasets/RisultatoMD/Risse/t_video4976627250674794766/0.jpg\n",
            "oh Shit  /content/drive/My Drive/Datasets/RisultatoMD/Risse/t_video4976627250674794766/0.jpg\n",
            "oh Shit  /content/drive/My Drive/Datasets/RisultatoMD/Risse/t_video4976627250674794766/0.jpg\n",
            "oh Shit  /content/drive/My Drive/Datasets/RisultatoMD/Risse/t_video4976627250674794766/0.jpg\n",
            "oh Shit  /content/drive/My Drive/Datasets/RisultatoMD/Risse/t_video4976627250674794766/0.jpg\n",
            "oh Shit  /content/drive/My Drive/Datasets/RisultatoMD/Risse/t_video4976627250674794766/0.jpg\n",
            "oh Shit  /content/drive/My Drive/Datasets/RisultatoMD/Risse/t_video4976627250674794766/0.jpg\n",
            "oh Shit  /content/drive/My Drive/Datasets/RisultatoMD/Risse/t_video4976627250674794766/0.jpg\n",
            "oh Shit  /content/drive/My Drive/Datasets/RisultatoMD/Risse/t_video4976627250674794766/0.jpg\n",
            "oh Shit  /content/drive/My Drive/Datasets/RisultatoMD/Risse/t_video4976627250674794766/0.jpg\n",
            "oh Shit  /content/drive/My Drive/Datasets/RisultatoMD/Risse/t_video4976627250674794766/0.jpg\n",
            "oh Shit  /content/drive/My Drive/Datasets/RisultatoMD/Risse/t_video4976627250674794766/0.jpg\n",
            "oh Shit  /content/drive/My Drive/Datasets/RisultatoMD/Risse/t_video4976627250674794766/0.jpg\n",
            "oh Shit  /content/drive/My Drive/Datasets/RisultatoMD/Risse/t_video4976627250674794766/0.jpg\n",
            "oh Shit  /content/drive/My Drive/Datasets/RisultatoMD/Risse/t_video5051158226184175841/0.jpg\n",
            "oh Shit  /content/drive/My Drive/Datasets/RisultatoMD/Risse/t_video5051158226184175841/0.jpg\n",
            "oh Shit  /content/drive/My Drive/Datasets/RisultatoMD/Risse/t_video5051158226184175841/0.jpg\n",
            "oh Shit  /content/drive/My Drive/Datasets/RisultatoMD/Risse/t_video5051158226184175841/0.jpg\n",
            "oh Shit  /content/drive/My Drive/Datasets/RisultatoMD/Risse/t_video5051158226184175841/0.jpg\n",
            "oh Shit  /content/drive/My Drive/Datasets/RisultatoMD/Risse/t_video5051158226184175841/0.jpg\n",
            "oh Shit  /content/drive/My Drive/Datasets/RisultatoMD/Risse/t_video5051158226184175841/0.jpg\n",
            "oh Shit  /content/drive/My Drive/Datasets/RisultatoMD/Risse/t_video5051158226184175841/0.jpg\n",
            "oh Shit  /content/drive/My Drive/Datasets/RisultatoMD/Risse/t_video5051158226184175841/0.jpg\n",
            "oh Shit  /content/drive/My Drive/Datasets/RisultatoMD/Risse/t_video5051158226184175841/0.jpg\n",
            "oh Shit  /content/drive/My Drive/Datasets/RisultatoMD/Risse/t_video5051158226184175841/0.jpg\n",
            "oh Shit  /content/drive/My Drive/Datasets/RisultatoMD/Risse/t_video5051158226184175841/0.jpg\n",
            "oh Shit  /content/drive/My Drive/Datasets/RisultatoMD/Risse/t_video5051158226184175841/0.jpg\n",
            "oh Shit  /content/drive/My Drive/Datasets/RisultatoMD/Risse/t_video5051158226184175841/0.jpg\n",
            "oh Shit  /content/drive/My Drive/Datasets/RisultatoMD/Risse/t_video5051158226184175841/0.jpg\n",
            "oh Shit  /content/drive/My Drive/Datasets/RisultatoMD/Risse/t_video5051158226184175841/0.jpg\n",
            "oh Shit  /content/drive/My Drive/Datasets/RisultatoMD/Risse/t_video5044488683139367199/0.jpg\n",
            "oh Shit  /content/drive/My Drive/Datasets/RisultatoMD/Risse/t_video5044488683139367199/0.jpg\n",
            "oh Shit  /content/drive/My Drive/Datasets/RisultatoMD/Risse/t_video5044488683139367199/0.jpg\n",
            "oh Shit  /content/drive/My Drive/Datasets/RisultatoMD/Risse/t_video5044488683139367199/0.jpg\n",
            "oh Shit  /content/drive/My Drive/Datasets/RisultatoMD/Risse/t_video5044488683139367199/0.jpg\n",
            "oh Shit  /content/drive/My Drive/Datasets/RisultatoMD/Risse/t_video5044488683139367199/0.jpg\n",
            "oh Shit  /content/drive/My Drive/Datasets/RisultatoMD/Risse/t_video5044488683139367199/0.jpg\n",
            "oh Shit  /content/drive/My Drive/Datasets/RisultatoMD/Risse/t_video5044488683139367199/0.jpg\n",
            "oh Shit  /content/drive/My Drive/Datasets/RisultatoMD/Risse/t_video5044488683139367199/0.jpg\n",
            "oh Shit  /content/drive/My Drive/Datasets/RisultatoMD/Risse/t_video5044488683139367199/0.jpg\n",
            "oh Shit  /content/drive/My Drive/Datasets/RisultatoMD/Risse/t_video5044488683139367199/0.jpg\n",
            "oh Shit  /content/drive/My Drive/Datasets/RisultatoMD/Risse/t_video5044488683139367199/0.jpg\n",
            "oh Shit  /content/drive/My Drive/Datasets/RisultatoMD/Risse/t_video5044488683139367199/0.jpg\n",
            "oh Shit  /content/drive/My Drive/Datasets/RisultatoMD/Risse/t_video5044488683139367199/0.jpg\n",
            "oh Shit  /content/drive/My Drive/Datasets/RisultatoMD/Risse/t_video5044488683139367199/0.jpg\n",
            "oh Shit  /content/drive/My Drive/Datasets/RisultatoMD/Risse/t_video5044488683139367199/0.jpg\n",
            "oh Shit  /content/drive/My Drive/Datasets/RisultatoMD/Risse/t_video5044488683139367190/0.jpg\n",
            "oh Shit  /content/drive/My Drive/Datasets/RisultatoMD/Risse/t_video5044488683139367190/0.jpg\n",
            "oh Shit  /content/drive/My Drive/Datasets/RisultatoMD/Risse/t_video5044488683139367190/0.jpg\n",
            "oh Shit  /content/drive/My Drive/Datasets/RisultatoMD/Risse/t_video5044488683139367190/0.jpg\n",
            "oh Shit  /content/drive/My Drive/Datasets/RisultatoMD/Risse/t_video5044488683139367190/0.jpg\n",
            "oh Shit  /content/drive/My Drive/Datasets/RisultatoMD/Risse/t_video5044488683139367190/0.jpg\n",
            "oh Shit  /content/drive/My Drive/Datasets/RisultatoMD/Risse/t_video5044488683139367190/0.jpg\n",
            "oh Shit  /content/drive/My Drive/Datasets/RisultatoMD/Risse/t_video5044488683139367190/0.jpg\n",
            "oh Shit  /content/drive/My Drive/Datasets/RisultatoMD/Risse/t_video5044488683139367190/0.jpg\n",
            "oh Shit  /content/drive/My Drive/Datasets/RisultatoMD/Risse/t_video5044488683139367190/0.jpg\n",
            "oh Shit  /content/drive/My Drive/Datasets/RisultatoMD/Risse/t_video5044488683139367190/0.jpg\n",
            "oh Shit  /content/drive/My Drive/Datasets/RisultatoMD/Risse/t_video5044488683139367190/0.jpg\n",
            "oh Shit  /content/drive/My Drive/Datasets/RisultatoMD/Risse/t_video5044488683139367190/0.jpg\n",
            "oh Shit  /content/drive/My Drive/Datasets/RisultatoMD/Risse/t_video5044488683139367190/0.jpg\n",
            "oh Shit  /content/drive/My Drive/Datasets/RisultatoMD/Risse/t_video5044488683139367190/0.jpg\n",
            "oh Shit  /content/drive/My Drive/Datasets/RisultatoMD/Risse/t_video5044488683139367190/0.jpg\n",
            "oh Shit  /content/drive/My Drive/Datasets/RisultatoMD/Risse/t_video5035320169207955676/0.jpg\n",
            "oh Shit  /content/drive/My Drive/Datasets/RisultatoMD/Risse/t_video5035320169207955676/0.jpg\n",
            "oh Shit  /content/drive/My Drive/Datasets/RisultatoMD/Risse/t_video5035320169207955676/0.jpg\n",
            "oh Shit  /content/drive/My Drive/Datasets/RisultatoMD/Risse/t_video5035320169207955676/0.jpg\n",
            "oh Shit  /content/drive/My Drive/Datasets/RisultatoMD/Risse/t_video5035320169207955676/0.jpg\n",
            "oh Shit  /content/drive/My Drive/Datasets/RisultatoMD/Risse/t_video5035320169207955676/0.jpg\n",
            "oh Shit  /content/drive/My Drive/Datasets/RisultatoMD/Risse/t_video5035320169207955676/0.jpg\n",
            "oh Shit  /content/drive/My Drive/Datasets/RisultatoMD/Risse/t_video5035320169207955676/0.jpg\n",
            "oh Shit  /content/drive/My Drive/Datasets/RisultatoMD/Risse/t_video5035320169207955676/0.jpg\n",
            "oh Shit  /content/drive/My Drive/Datasets/RisultatoMD/Risse/t_video5035320169207955676/0.jpg\n",
            "oh Shit  /content/drive/My Drive/Datasets/RisultatoMD/Risse/t_video5035320169207955676/0.jpg\n",
            "oh Shit  /content/drive/My Drive/Datasets/RisultatoMD/Risse/t_video5035320169207955676/0.jpg\n",
            "oh Shit  /content/drive/My Drive/Datasets/RisultatoMD/Risse/t_video5035320169207955676/0.jpg\n",
            "oh Shit  /content/drive/My Drive/Datasets/RisultatoMD/Risse/t_video5035320169207955676/0.jpg\n",
            "oh Shit  /content/drive/My Drive/Datasets/RisultatoMD/Risse/t_video5035320169207955676/0.jpg\n",
            "oh Shit  /content/drive/My Drive/Datasets/RisultatoMD/Risse/t_video5035320169207955676/0.jpg\n",
            "oh Shit  /content/drive/My Drive/Datasets/RisultatoMD/Risse/t_video5031057942447653050/0.jpg\n",
            "oh Shit  /content/drive/My Drive/Datasets/RisultatoMD/Risse/t_video5031057942447653050/0.jpg\n",
            "oh Shit  /content/drive/My Drive/Datasets/RisultatoMD/Risse/t_video5031057942447653050/0.jpg\n",
            "oh Shit  /content/drive/My Drive/Datasets/RisultatoMD/Risse/t_video5031057942447653050/0.jpg\n",
            "oh Shit  /content/drive/My Drive/Datasets/RisultatoMD/Risse/t_video5031057942447653050/0.jpg\n",
            "oh Shit  /content/drive/My Drive/Datasets/RisultatoMD/Risse/t_video5031057942447653050/0.jpg\n",
            "oh Shit  /content/drive/My Drive/Datasets/RisultatoMD/Risse/t_video5031057942447653050/0.jpg\n",
            "oh Shit  /content/drive/My Drive/Datasets/RisultatoMD/Risse/t_video5031057942447653050/0.jpg\n",
            "oh Shit  /content/drive/My Drive/Datasets/RisultatoMD/Risse/t_video5031057942447653050/0.jpg\n",
            "oh Shit  /content/drive/My Drive/Datasets/RisultatoMD/Risse/t_video5031057942447653050/0.jpg\n",
            "oh Shit  /content/drive/My Drive/Datasets/RisultatoMD/Risse/t_video5031057942447653050/0.jpg\n",
            "oh Shit  /content/drive/My Drive/Datasets/RisultatoMD/Risse/t_video5031057942447653050/0.jpg\n",
            "oh Shit  /content/drive/My Drive/Datasets/RisultatoMD/Risse/t_video5031057942447653050/0.jpg\n",
            "oh Shit  /content/drive/My Drive/Datasets/RisultatoMD/Risse/t_video5031057942447653050/0.jpg\n",
            "oh Shit  /content/drive/My Drive/Datasets/RisultatoMD/Risse/t_video5031057942447653050/0.jpg\n",
            "oh Shit  /content/drive/My Drive/Datasets/RisultatoMD/Risse/t_video5031057942447653050/0.jpg\n",
            "oh Shit  /content/drive/My Drive/Datasets/RisultatoMD/Risse/t_video5008228825469812847/0.jpg\n",
            "oh Shit  /content/drive/My Drive/Datasets/RisultatoMD/Risse/t_video5008228825469812847/0.jpg\n",
            "oh Shit  /content/drive/My Drive/Datasets/RisultatoMD/Risse/t_video5008228825469812847/0.jpg\n",
            "oh Shit  /content/drive/My Drive/Datasets/RisultatoMD/Risse/t_video5008228825469812847/0.jpg\n",
            "oh Shit  /content/drive/My Drive/Datasets/RisultatoMD/Risse/t_video5008228825469812847/0.jpg\n",
            "oh Shit  /content/drive/My Drive/Datasets/RisultatoMD/Risse/t_video5008228825469812847/0.jpg\n",
            "oh Shit  /content/drive/My Drive/Datasets/RisultatoMD/Risse/t_video5008228825469812847/0.jpg\n",
            "oh Shit  /content/drive/My Drive/Datasets/RisultatoMD/Risse/t_video5008228825469812847/0.jpg\n",
            "oh Shit  /content/drive/My Drive/Datasets/RisultatoMD/Risse/t_video5008228825469812847/0.jpg\n",
            "oh Shit  /content/drive/My Drive/Datasets/RisultatoMD/Risse/t_video5008228825469812847/0.jpg\n",
            "oh Shit  /content/drive/My Drive/Datasets/RisultatoMD/Risse/t_video5008228825469812847/0.jpg\n",
            "oh Shit  /content/drive/My Drive/Datasets/RisultatoMD/Risse/t_video5008228825469812847/0.jpg\n",
            "oh Shit  /content/drive/My Drive/Datasets/RisultatoMD/Risse/t_video5008228825469812847/0.jpg\n",
            "oh Shit  /content/drive/My Drive/Datasets/RisultatoMD/Risse/t_video5008228825469812847/0.jpg\n",
            "oh Shit  /content/drive/My Drive/Datasets/RisultatoMD/Risse/t_video5008228825469812847/0.jpg\n",
            "oh Shit  /content/drive/My Drive/Datasets/RisultatoMD/Risse/t_video5008228825469812847/0.jpg\n",
            "oh Shit  /content/drive/My Drive/Datasets/RisultatoMD/Risse/t_video4990032453490966833/0.jpg\n",
            "oh Shit  /content/drive/My Drive/Datasets/RisultatoMD/Risse/t_video4990032453490966833/0.jpg\n",
            "oh Shit  /content/drive/My Drive/Datasets/RisultatoMD/Risse/t_video4990032453490966833/0.jpg\n",
            "oh Shit  /content/drive/My Drive/Datasets/RisultatoMD/Risse/t_video4990032453490966833/0.jpg\n",
            "oh Shit  /content/drive/My Drive/Datasets/RisultatoMD/Risse/t_video4990032453490966833/0.jpg\n",
            "oh Shit  /content/drive/My Drive/Datasets/RisultatoMD/Risse/t_video4990032453490966833/0.jpg\n",
            "oh Shit  /content/drive/My Drive/Datasets/RisultatoMD/Risse/t_video4990032453490966833/0.jpg\n",
            "oh Shit  /content/drive/My Drive/Datasets/RisultatoMD/Risse/t_video4990032453490966833/0.jpg\n",
            "oh Shit  /content/drive/My Drive/Datasets/RisultatoMD/Risse/t_video4990032453490966833/0.jpg\n",
            "oh Shit  /content/drive/My Drive/Datasets/RisultatoMD/Risse/t_video4990032453490966833/0.jpg\n",
            "oh Shit  /content/drive/My Drive/Datasets/RisultatoMD/Risse/t_video4990032453490966833/0.jpg\n",
            "oh Shit  /content/drive/My Drive/Datasets/RisultatoMD/Risse/t_video4990032453490966833/0.jpg\n",
            "oh Shit  /content/drive/My Drive/Datasets/RisultatoMD/Risse/t_video4990032453490966833/0.jpg\n",
            "oh Shit  /content/drive/My Drive/Datasets/RisultatoMD/Risse/t_video4990032453490966833/0.jpg\n",
            "oh Shit  /content/drive/My Drive/Datasets/RisultatoMD/Risse/t_video4990032453490966833/0.jpg\n",
            "oh Shit  /content/drive/My Drive/Datasets/RisultatoMD/Risse/t_video4990032453490966833/0.jpg\n",
            "\n"
          ],
          "name": "stdout"
        }
      ]
    },
    {
      "cell_type": "markdown",
      "metadata": {
        "id": "R5Pc5O8JtWMJ"
      },
      "source": [
        "# TRAIN NETWORK"
      ]
    },
    {
      "cell_type": "code",
      "metadata": {
        "id": "tkIG_uhg7fPH",
        "colab": {
          "base_uri": "https://localhost:8080/"
        },
        "outputId": "7a9ef20c-2872-45a4-f135-041019b4a649"
      },
      "source": [
        "%cd /content/drive/My Drive/Colab Notebooks/SlowFast"
      ],
      "execution_count": null,
      "outputs": [
        {
          "output_type": "stream",
          "text": [
            "/content/drive/My Drive/Colab Notebooks/SlowFast\n"
          ],
          "name": "stdout"
        }
      ]
    },
    {
      "cell_type": "code",
      "metadata": {
        "id": "gfdq8bSO7s0a"
      },
      "source": [
        "import torchvision\n",
        "import torch\n",
        "from torch import nn\n",
        "import torch.nn.functional as F\n",
        "import torchvision.models as models\n",
        "import torch.optim as optim\n",
        "import copy\n",
        "import os\n",
        "from tqdm.autonotebook import tqdm\n",
        "import matplotlib.pyplot as plt\n",
        "from torch.utils.data import Dataset\n",
        "from torchvision import transforms\n",
        "from torch.utils.data import DataLoader\n",
        "import numpy as np\n",
        "from torch.utils.data.sampler import SubsetRandomSampler\n",
        "import cv2\n",
        "import sys"
      ],
      "execution_count": null,
      "outputs": []
    },
    {
      "cell_type": "code",
      "metadata": {
        "id": "ypMgK0gA4iNS"
      },
      "source": [
        "# UCF3\n",
        "data_path = '/content/drive/My Drive/Datasets/RisultatoMDX'\n",
        "path = '/content/drive/My Drive/Datasets/RisultatoMDX'\n",
        "weights_dir = '/content/drive/My Drive/Datasets/weights_UCF3'"
      ],
      "execution_count": null,
      "outputs": []
    },
    {
      "cell_type": "code",
      "metadata": {
        "id": "__TVncCdN1jN"
      },
      "source": [
        "classes = os.listdir(data_path)\n",
        "decoder = {}\n",
        "for i in range(len(classes)):\n",
        "    decoder[classes[i]] = i\n",
        "encoder = {}\n",
        "for i in range(len(classes)):\n",
        "    encoder[i] = classes[i]"
      ],
      "execution_count": null,
      "outputs": []
    },
    {
      "cell_type": "code",
      "metadata": {
        "id": "TiuCb0FPCn87"
      },
      "source": [
        "id = list()\n",
        "for i in os.listdir(path):\n",
        "  p1 = os.path.join(path,i)\n",
        "  for j in os.listdir(p1):\n",
        "    p2 = os.path.join(p1,j)\n",
        "    id.append((i,p2))"
      ],
      "execution_count": null,
      "outputs": []
    },
    {
      "cell_type": "code",
      "metadata": {
        "id": "v5iUVP4p6VFn"
      },
      "source": [
        "class video_dataset(Dataset):\n",
        "    def __init__(self,frame_list,sequence_length = 16,transform = None):\n",
        "        self.frame_list = frame_list\n",
        "        self.transform = transform\n",
        "        self.sequence_length = sequence_length\n",
        "    def __len__(self):\n",
        "        return len(self.frame_list)\n",
        "    def __getitem__(self,idx):\n",
        "        label,path = self.frame_list[idx]\n",
        "        img = cv2.imread(path)\n",
        "        seq_img = list()\n",
        "        for i in range(16):\n",
        "          img1 = img[:,128*i:128*(i+1),:]\n",
        "          if(self.transform):\n",
        "            img1 = self.transform(img1)\n",
        "          seq_img.append(img1)\n",
        "        seq_image = torch.stack(seq_img)\n",
        "        seq_image = seq_image.reshape(3,16,im_size,im_size)\n",
        "        return seq_image,decoder[label]"
      ],
      "execution_count": null,
      "outputs": []
    },
    {
      "cell_type": "code",
      "metadata": {
        "id": "msB4umEmPxj6",
        "colab": {
          "base_uri": "https://localhost:8080/"
        },
        "outputId": "e606c90b-e1ca-480a-c8e9-a34b6becdb40"
      },
      "source": [
        "# Train/Test Split\n",
        "\n",
        "im_size = 128\n",
        "mean = [0.4889, 0.4887, 0.4891]\n",
        "std = [0.2074, 0.2074, 0.2074]\n",
        "\n",
        "\n",
        "train_transforms = transforms.Compose([\n",
        "                                        transforms.ToPILImage(),\n",
        "                                        transforms.Resize((im_size,im_size)),\n",
        "                                        transforms.RandomHorizontalFlip(),\n",
        "                                        transforms.RandomRotation(degrees=10),\n",
        "                                        transforms.ToTensor(),\n",
        "                                        transforms.Normalize(mean,std)])\n",
        "\n",
        "train_data = video_dataset(id, sequence_length = 16,transform = train_transforms)\n",
        "\n",
        "########################   Proporzione 70 / 30\n",
        "# dim : 100 = X : 80\n",
        "dim = len(id)\n",
        "print(\"len(id) : \", dim)\n",
        "train_dim = int((dim*70)/100)\n",
        "test_dim = int(dim - train_dim)\n",
        "print(\"train_dim : \", train_dim, \" test_dim : \",test_dim)\n",
        "test_ds, train_ds = torch.utils.data.random_split(train_data, (test_dim, train_dim))\n",
        "print(test_ds, train_ds)\n",
        "print('Test: ', test_ds.indices, '\\nTrain: ',train_ds.indices)\n",
        "print('len(Test): ', len(test_ds.indices), '\\nlen(Train): ',len(train_ds.indices))\n",
        "########################\n",
        "\n",
        "train_loader = DataLoader(train_ds, batch_size = 8, num_workers = 4 , shuffle = True)\n",
        "dataloaders = {'train':train_loader}\n",
        "test_loader = DataLoader(test_ds, batch_size = 8, num_workers = 4 , shuffle = True)\n",
        "dataloaders_test = {'test':test_loader}\n",
        "\n",
        "# train_loader = DataLoader(train_data, batch_size = 8, num_workers = 4 , shuffle = True)\n",
        "# dataloaders = {'train':train_loader}"
      ],
      "execution_count": null,
      "outputs": [
        {
          "output_type": "stream",
          "text": [
            "len(id) :  1530\n",
            "train_dim :  1071  test_dim :  459\n",
            "<torch.utils.data.dataset.Subset object at 0x7f46d92e7588> <torch.utils.data.dataset.Subset object at 0x7f46d92e7da0>\n",
            "Test:  [1088, 295, 1203, 173, 984, 1351, 1078, 486, 1202, 1310, 1175, 869, 52, 945, 1303, 1336, 764, 11, 1287, 282, 1444, 66, 234, 96, 620, 1514, 1249, 1335, 250, 1016, 10, 360, 597, 692, 931, 329, 1503, 1265, 753, 1397, 944, 113, 190, 207, 48, 90, 177, 1023, 1034, 180, 1181, 1388, 914, 478, 548, 368, 410, 519, 414, 1382, 1362, 725, 1293, 855, 441, 1258, 1019, 542, 952, 1304, 98, 139, 1020, 1410, 1011, 1064, 218, 1516, 694, 123, 476, 1040, 1025, 33, 1027, 199, 1215, 358, 1112, 1233, 418, 1371, 852, 340, 790, 458, 1263, 109, 1520, 1042, 1173, 1103, 1378, 1166, 687, 151, 1284, 962, 336, 1147, 429, 883, 1106, 25, 1242, 594, 133, 438, 7, 1416, 191, 691, 386, 326, 202, 1225, 152, 993, 1026, 510, 1244, 713, 505, 863, 490, 92, 1360, 1495, 1218, 1224, 762, 272, 1184, 1356, 176, 1193, 1174, 718, 356, 555, 515, 1282, 435, 432, 73, 995, 457, 541, 1325, 1457, 658, 110, 1316, 12, 817, 536, 956, 701, 1272, 1435, 500, 756, 788, 742, 214, 738, 625, 1465, 1528, 213, 1313, 1207, 557, 1145, 722, 467, 1111, 409, 317, 1482, 198, 451, 814, 897, 1199, 482, 436, 590, 533, 535, 51, 124, 1447, 556, 704, 15, 209, 1107, 942, 345, 615, 857, 768, 408, 815, 566, 1508, 570, 801, 907, 1299, 1323, 219, 302, 637, 559, 1368, 497, 1344, 83, 226, 662, 1186, 521, 251, 91, 612, 157, 288, 1120, 732, 635, 989, 163, 646, 964, 1296, 81, 21, 813, 315, 948, 1417, 1398, 1000, 560, 165, 1436, 903, 235, 1419, 926, 1039, 1118, 261, 631, 693, 1205, 706, 1060, 1210, 443, 584, 1109, 1014, 1385, 1232, 319, 217, 608, 1123, 705, 455, 607, 653, 917, 1223, 575, 460, 618, 659, 1524, 78, 1159, 573, 1381, 529, 1276, 65, 919, 427, 316, 239, 782, 1013, 154, 299, 1307, 645, 1483, 1152, 1442, 508, 1448, 1066, 636, 772, 818, 1208, 1171, 1449, 1237, 610, 978, 194, 304, 38, 136, 318, 222, 43, 1169, 734, 1529, 188, 681, 32, 780, 1052, 524, 643, 1104, 56, 1279, 313, 1270, 1099, 1283, 846, 682, 311, 902, 422, 274, 581, 810, 137, 858, 320, 514, 125, 660, 246, 1010, 1512, 665, 1139, 1194, 1379, 899, 674, 395, 603, 1134, 702, 1017, 393, 816, 351, 488, 1274, 1191, 1091, 85, 1012, 150, 621, 1050, 1319, 1190, 833, 979, 781, 141, 1097, 433, 45, 237, 837, 622, 231, 1021, 1072, 292, 1484, 1113, 1070, 362, 676, 1003, 611, 1517, 1264, 396, 932, 1200, 370, 57, 848, 889, 1426, 273, 146, 262, 1069, 1212, 13, 755, 806, 1234, 403, 1488, 1438, 339, 1178, 613, 1005, 1062, 1376, 35, 101, 1471, 1033, 538, 1189, 350, 392, 971, 958, 87, 289, 1492, 196, 849, 128, 1075, 193, 284, 1257] \n",
            "Train:  [791, 773, 1389, 29, 1413, 769, 1402, 507, 148, 1425, 1286, 878, 325, 119, 1024, 1219, 509, 650, 1489, 301, 456, 709, 959, 491, 771, 192, 518, 1515, 994, 210, 341, 270, 638, 830, 715, 323, 1041, 792, 1393, 1372, 1350, 220, 537, 1329, 228, 450, 465, 580, 532, 1459, 1472, 36, 827, 802, 745, 1277, 786, 216, 1452, 921, 1035, 1450, 355, 330, 391, 796, 572, 967, 333, 42, 724, 961, 805, 1216, 595, 268, 1401, 127, 522, 53, 365, 774, 628, 703, 1407, 227, 1324, 793, 303, 1478, 766, 1365, 312, 247, 159, 367, 276, 453, 1168, 259, 1485, 2, 1037, 589, 1250, 27, 1117, 563, 668, 675, 1326, 1298, 421, 1126, 862, 937, 1228, 76, 167, 64, 839, 977, 1083, 602, 835, 844, 759, 1386, 1238, 1116, 626, 1261, 1469, 1043, 477, 809, 733, 1357, 767, 452, 642, 1347, 105, 991, 1460, 842, 1192, 1505, 1160, 859, 389, 998, 1110, 102, 1251, 778, 1222, 99, 939, 1490, 988, 383, 1439, 634, 915, 935, 46, 1302, 1009, 116, 593, 454, 24, 1096, 530, 1361, 1404, 63, 666, 181, 1051, 266, 1467, 204, 445, 375, 1348, 1247, 539, 461, 886, 153, 122, 1487, 908, 380, 1521, 489, 604, 746, 895, 480, 49, 308, 807, 819, 1164, 1138, 1076, 1525, 1162, 591, 999, 71, 61, 1411, 1493, 1105, 1342, 1289, 1137, 230, 1418, 579, 1195, 88, 748, 1486, 1275, 680, 168, 503, 568, 1308, 690, 951, 1394, 1008, 361, 1278, 60, 1028, 1204, 240, 1314, 587, 1180, 388, 741, 419, 1434, 1133, 689, 444, 686, 1260, 485, 1077, 1501, 1422, 946, 1241, 940, 925, 1498, 624, 1300, 22, 851, 275, 1499, 997, 158, 729, 1330, 677, 678, 1183, 834, 1285, 544, 528, 338, 411, 442, 334, 1177, 954, 860, 1144, 1431, 697, 132, 114, 462, 641, 616, 1369, 138, 1086, 540, 108, 407, 18, 1441, 285, 84, 349, 824, 657, 431, 1364, 4, 298, 208, 1185, 211, 1002, 369, 1500, 1071, 941, 426, 910, 672, 670, 1428, 1400, 156, 6, 324, 1131, 39, 598, 633, 283, 963, 1170, 812, 1220, 1209, 1396, 1163, 281, 394, 606, 346, 37, 149, 1165, 763, 55, 424, 912, 867, 446, 1198, 599, 960, 1445, 44, 129, 440, 1377, 1074, 777, 1153, 870, 1084, 717, 374, 1334, 1119, 820, 982, 249, 965, 901, 799, 447, 481, 75, 639, 1406, 1305, 1031, 1437, 779, 865, 526, 1230, 938, 1312, 279, 473, 1327, 169, 1188, 871, 296, 1430, 1288, 527, 990, 1353, 845, 585, 1311, 1087, 1453, 58, 267, 1, 54, 1102, 1217, 72, 736, 854, 118, 731, 664, 1446, 576, 985, 1221, 492, 1339, 1496, 1006, 1280, 1346, 679, 601, 359, 600, 797, 629, 352, 31, 1211, 853, 321, 172, 957, 1253, 789, 1266, 1387, 171, 654, 255, 309, 354, 314, 1519, 1259, 185, 947, 423, 1297, 248, 712, 1375, 430, 1073, 483, 1248, 1079, 890, 1115, 923, 747, 1176, 1151, 1412, 1271, 495, 619, 647, 1156, 397, 758, 1454, 740, 1328, 470, 1463, 882, 1384, 1158, 20, 696, 1054, 711, 1301, 479, 513, 516, 147, 290, 223, 934, 134, 648, 885, 1294, 1341, 1129, 417, 225, 558, 609, 950, 1081, 112, 933, 986, 205, 106, 728, 241, 1239, 922, 719, 1046, 578, 385, 1179, 26, 562, 632, 1432, 40, 496, 448, 404, 1427, 1295, 1067, 992, 688, 798, 1506, 1423, 543, 1281, 571, 16, 972, 850, 534, 415, 115, 588, 1315, 277, 561, 1291, 1309, 1155, 640, 1345, 306, 215, 378, 1332, 5, 155, 847, 1235, 254, 474, 1254, 1101, 525, 1462, 905, 449, 656, 1509, 145, 891, 776, 117, 287, 1142, 377, 987, 1056, 294, 707, 382, 1114, 751, 1470, 586, 1391, 757, 34, 499, 1154, 743, 873, 856, 420, 344, 384, 684, 876, 655, 1504, 750, 840, 1146, 1474, 1214, 364, 1318, 179, 466, 1408, 439, 17, 1004, 357, 1256, 1255, 107, 1464, 160, 1095, 371, 232, 592, 197, 1421, 644, 212, 1507, 1057, 949, 1292, 1473, 1527, 1036, 872, 244, 1061, 1226, 405, 685, 80, 623, 67, 630, 1380, 1322, 398, 1108, 973, 1048, 69, 1481, 1245, 651, 335, 70, 343, 720, 506, 9, 1433, 1141, 784, 911, 174, 826, 1030, 1349, 221, 493, 614, 582, 716, 913, 494, 93, 203, 547, 723, 1510, 739, 1093, 97, 1343, 1337, 47, 293, 0, 726, 695, 795, 843, 794, 875, 166, 727, 502, 1415, 1338, 596, 189, 511, 144, 721, 920, 1269, 130, 1089, 1390, 900, 996, 1082, 1468, 1513, 909, 775, 464, 874, 271, 233, 77, 187, 86, 1098, 1063, 170, 337, 1451, 459, 135, 178, 260, 1143, 1090, 1252, 617, 1461, 800, 669, 1399, 1526, 184, 1455, 487, 512, 1383, 310, 300, 970, 1001, 1032, 79, 546, 1374, 1494, 523, 1306, 975, 472, 297, 864, 552, 1044, 1201, 627, 245, 1140, 1045, 1355, 1047, 331, 1523, 1015, 1038, 1018, 74, 1317, 1130, 918, 390, 1518, 416, 1340, 305, 661, 252, 1466, 832, 1080, 565, 1403, 663, 671, 201, 1273, 475, 1157, 68, 1333, 291, 893, 1127, 1243, 737, 269, 258, 434, 1477, 765, 463, 564, 754, 735, 286, 425, 1022, 322, 263, 1320, 19, 140, 531, 749, 783, 831, 1331, 649, 877, 265, 811, 825, 861, 120, 379, 437, 332, 256, 253, 1125, 342, 236, 884, 760, 14, 752, 904, 1149, 161, 981, 1100, 879, 307, 968, 347, 327, 363, 1363, 8, 567, 966, 927, 501, 953, 104, 264, 829, 1049, 803, 1370, 1161, 1268, 1132, 143, 1511, 175, 836, 1135, 887, 1094, 1392, 1420, 1424, 1290, 894, 366, 1182, 1354, 413, 821, 186, 969, 28, 1522, 550, 896, 808, 1167, 652, 1197, 471, 828, 898, 412, 1414, 928, 1058, 1246, 708, 1405, 94, 1065, 111, 1366, 823, 700, 583, 785, 577, 1502, 381, 744, 943, 100, 504, 1148, 1059, 1231, 517, 1476, 1085, 983, 1479, 257, 868, 399, 545, 980, 551, 955, 469, 200, 1240, 866, 1136, 1236, 131, 673, 402, 520, 278, 936, 183, 428, 243, 400, 730, 906, 1267, 822, 838, 804, 1172, 373, 1213, 761, 569, 770, 348, 1429, 59, 1475, 468, 698, 1196, 549, 605, 1053, 238, 787, 182, 1029, 328, 1395, 1122, 1440, 1456, 1124, 1359, 89, 401, 892, 1373, 50, 880, 353, 1352, 41, 1092, 103, 916, 406, 206, 195, 372, 929, 976, 553, 841, 974, 1367, 1458, 1068, 1409, 23, 126, 888, 1055, 714, 229, 1206, 1443, 1007, 1128, 1497, 82, 1480, 162, 1227, 699, 930, 142, 683, 121, 1262, 1491, 224, 710, 554, 387, 924, 164, 1358, 3, 95, 1150, 30, 376, 280, 1321, 1121, 667, 1229, 881, 62, 498, 1187, 574, 484, 242]\n",
            "len(Test):  459 \n",
            "len(Train):  1071\n"
          ],
          "name": "stdout"
        }
      ]
    },
    {
      "cell_type": "code",
      "metadata": {
        "id": "NqtR9UDF72pX"
      },
      "source": [
        "from model import resnet50\n",
        "model = resnet50(class_num=8).to('cuda')"
      ],
      "execution_count": null,
      "outputs": []
    },
    {
      "cell_type": "code",
      "metadata": {
        "id": "QqyU-0k67-N_"
      },
      "source": [
        "from clr import *\n",
        "device = 'cuda'\n",
        "cls_criterion = nn.CrossEntropyLoss().to(device)\n",
        "optimizer = torch.optim.SGD(model.parameters(), lr=1e-3, momentum = 0.9,weight_decay = 1e-4)\n",
        "num_epochs = 20\n",
        "onecyc = OneCycle(len(train_loader)*num_epochs,1e-3)"
      ],
      "execution_count": null,
      "outputs": []
    },
    {
      "cell_type": "code",
      "metadata": {
        "id": "qwKkjamemzyk"
      },
      "source": [
        "def error_plot(loss):\n",
        "    plt.figure(figsize=(10,5))\n",
        "    plt.plot(loss)\n",
        "    plt.title(\"Training loss plot\")\n",
        "    plt.xlabel(\"epochs\")\n",
        "    plt.ylabel(\"Loss\")\n",
        "    plt.show()\n",
        "def acc_plot(acc):\n",
        "    plt.figure(figsize=(10,5))\n",
        "    plt.plot(acc)\n",
        "    plt.title(\"Training accuracy plot\")\n",
        "    plt.xlabel(\"epochs\")\n",
        "    plt.ylabel(\"accuracy\")\n",
        "    plt.show()"
      ],
      "execution_count": null,
      "outputs": []
    },
    {
      "cell_type": "markdown",
      "metadata": {
        "id": "yldA4pEiNvJk"
      },
      "source": [
        "## UCF3"
      ]
    },
    {
      "cell_type": "code",
      "metadata": {
        "id": "ybCCnE-T8GzU",
        "colab": {
          "base_uri": "https://localhost:8080/"
        },
        "outputId": "6c10c418-6422-4730-a8a0-03ced91613c7"
      },
      "source": [
        "# UCF3\n",
        "!rm -rf /content/drive/My Drive/Datasets/weights_UCF3\n",
        "# 3684 secondi\n",
        "\n",
        "os.makedirs(weights_dir, exist_ok = True)\n",
        "from torch.autograd import Variable\n",
        "iteration = 0\n",
        "acc_all = list()\n",
        "loss_all = list()\n",
        "    \n",
        "for epoch in range(num_epochs):\n",
        "    print('')\n",
        "    print(f\"--- Epoch {epoch} ---\")\n",
        "    phase1 = dataloaders.keys()\n",
        "    for phase in phase1:\n",
        "        print('')\n",
        "        print(f\"--- Phase {phase} ---\")\n",
        "        epoch_metrics = {\"loss\": [], \"acc\": []}\n",
        "        for batch_i, (X, y) in enumerate(dataloaders[phase]):\n",
        "            #iteration = iteration+1\n",
        "            image_sequences = Variable(X.to(device), requires_grad=True)\n",
        "            labels = Variable(y.to(device), requires_grad=False)\n",
        "            optimizer.zero_grad()\n",
        "            #model.lstm.reset_hidden_state()\n",
        "            predictions = model(image_sequences)\n",
        "            loss = cls_criterion(predictions, labels)\n",
        "            acc = 100 * (predictions.detach().argmax(1) == labels).cpu().numpy().mean()\n",
        "            loss.backward()\n",
        "            optimizer.step()\n",
        "            epoch_metrics[\"loss\"].append(loss.item())\n",
        "            epoch_metrics[\"acc\"].append(acc)\n",
        "            if(phase=='train'):\n",
        "                lr,mom = onecyc.calc()\n",
        "                update_lr(optimizer, lr)\n",
        "                update_mom(optimizer, mom)\n",
        "            batches_done = epoch * len(dataloaders[phase]) + batch_i\n",
        "            batches_left = num_epochs * len(dataloaders[phase]) - batches_done\n",
        "            sys.stdout.write(\n",
        "                    \"\\r[Epoch %d/%d] [Batch %d/%d] [Loss: %f (%f), Acc: %.2f%% (%.2f%%)]\"\n",
        "                    % (\n",
        "                        epoch,\n",
        "                        num_epochs,\n",
        "                        batch_i,\n",
        "                        len(dataloaders[phase]),\n",
        "                        loss.item(),\n",
        "                        np.mean(epoch_metrics[\"loss\"]),\n",
        "                        acc,\n",
        "                        np.mean(epoch_metrics[\"acc\"]),\n",
        "                    )\n",
        "                )\n",
        "\n",
        "                # Empty cache\n",
        "            if torch.cuda.is_available():\n",
        "                torch.cuda.empty_cache()\n",
        "            \n",
        "        print('')\n",
        "        print('{} , acc: {}'.format(phase,np.mean(epoch_metrics[\"acc\"])))\n",
        "        torch.save(model.state_dict(), weights_dir + '/c3d_{}.h5'.format(epoch))\n",
        "        if(phase=='train'):\n",
        "          acc_all.append(np.mean(epoch_metrics[\"acc\"]))\n",
        "          loss_all.append(np.mean(epoch_metrics[\"loss\"]))"
      ],
      "execution_count": null,
      "outputs": [
        {
          "output_type": "stream",
          "text": [
            "\n",
            "--- Epoch 0 ---\n",
            "\n",
            "--- Phase train ---\n",
            "[Epoch 0/20] [Batch 133/134] [Loss: 1.421155 (1.156895), Acc: 28.57% (54.50%)]\n",
            "train , acc: 54.504264392324096\n",
            "\n",
            "--- Epoch 1 ---\n",
            "\n",
            "--- Phase train ---\n",
            "[Epoch 1/20] [Batch 133/134] [Loss: 2.347097 (1.036227), Acc: 14.29% (61.77%)]\n",
            "train , acc: 61.76705756929637\n",
            "\n",
            "--- Epoch 2 ---\n",
            "\n",
            "--- Phase train ---\n",
            "[Epoch 2/20] [Batch 133/134] [Loss: 2.420805 (0.993407), Acc: 42.86% (65.71%)]\n",
            "train , acc: 65.71162046908316\n",
            "\n",
            "--- Epoch 3 ---\n",
            "\n",
            "--- Phase train ---\n",
            "[Epoch 3/20] [Batch 133/134] [Loss: 0.217740 (0.978322), Acc: 85.71% (69.39%)]\n",
            "train , acc: 69.38965884861408\n",
            "\n",
            "--- Epoch 4 ---\n",
            "\n",
            "--- Phase train ---\n",
            "[Epoch 4/20] [Batch 133/134] [Loss: 1.622996 (0.876169), Acc: 71.43% (71.89%)]\n",
            "train , acc: 71.8949893390192\n",
            "\n",
            "--- Epoch 5 ---\n",
            "\n",
            "--- Phase train ---\n",
            "[Epoch 5/20] [Batch 133/134] [Loss: 0.846052 (0.864617), Acc: 57.14% (75.05%)]\n",
            "train , acc: 75.05330490405117\n",
            "\n",
            "--- Epoch 6 ---\n",
            "\n",
            "--- Phase train ---\n",
            "[Epoch 6/20] [Batch 133/134] [Loss: 0.093555 (0.761878), Acc: 100.00% (77.80%)]\n",
            "train , acc: 77.79850746268657\n",
            "\n",
            "--- Epoch 7 ---\n",
            "\n",
            "--- Phase train ---\n",
            "[Epoch 7/20] [Batch 133/134] [Loss: 2.264520 (0.664956), Acc: 42.86% (80.92%)]\n",
            "train , acc: 80.91684434968018\n",
            "\n",
            "--- Epoch 8 ---\n",
            "\n",
            "--- Phase train ---\n",
            "[Epoch 8/20] [Batch 133/134] [Loss: 0.035469 (0.606664), Acc: 100.00% (84.42%)]\n",
            "train , acc: 84.42164179104478\n",
            "\n",
            "--- Epoch 9 ---\n",
            "\n",
            "--- Phase train ---\n",
            "[Epoch 9/20] [Batch 133/134] [Loss: 0.285834 (0.513565), Acc: 85.71% (87.02%)]\n",
            "train , acc: 87.02025586353945\n",
            "\n",
            "--- Epoch 10 ---\n",
            "\n",
            "--- Phase train ---\n",
            "[Epoch 10/20] [Batch 133/134] [Loss: 0.095772 (0.323571), Acc: 100.00% (91.04%)]\n",
            "train , acc: 91.04477611940298\n",
            "\n",
            "--- Epoch 11 ---\n",
            "\n",
            "--- Phase train ---\n",
            "[Epoch 11/20] [Batch 133/134] [Loss: 0.053433 (0.324114), Acc: 100.00% (90.76%)]\n",
            "train , acc: 90.76492537313433\n",
            "\n",
            "--- Epoch 12 ---\n",
            "\n",
            "--- Phase train ---\n",
            "[Epoch 12/20] [Batch 133/134] [Loss: 0.017994 (0.202644), Acc: 100.00% (94.59%)]\n",
            "train , acc: 94.58955223880596\n",
            "\n",
            "--- Epoch 13 ---\n",
            "\n",
            "--- Phase train ---\n",
            "[Epoch 13/20] [Batch 133/134] [Loss: 0.468819 (0.161396), Acc: 71.43% (95.12%)]\n",
            "train , acc: 95.1226012793177\n",
            "\n",
            "--- Epoch 14 ---\n",
            "\n",
            "--- Phase train ---\n",
            "[Epoch 14/20] [Batch 133/134] [Loss: 0.056263 (0.103458), Acc: 100.00% (97.11%)]\n",
            "train , acc: 97.10820895522389\n",
            "\n",
            "--- Epoch 15 ---\n",
            "\n",
            "--- Phase train ---\n",
            "[Epoch 15/20] [Batch 133/134] [Loss: 0.448629 (0.080321), Acc: 85.71% (97.75%)]\n",
            "train , acc: 97.74786780383796\n",
            "\n",
            "--- Epoch 16 ---\n",
            "\n",
            "--- Phase train ---\n",
            "[Epoch 16/20] [Batch 133/134] [Loss: 0.001833 (0.130335), Acc: 100.00% (96.46%)]\n",
            "train , acc: 96.45522388059702\n",
            "\n",
            "--- Epoch 17 ---\n",
            "\n",
            "--- Phase train ---\n",
            "[Epoch 17/20] [Batch 133/134] [Loss: 0.000886 (0.055474), Acc: 100.00% (98.23%)]\n",
            "train , acc: 98.2276119402985\n",
            "\n",
            "--- Epoch 18 ---\n",
            "\n",
            "--- Phase train ---\n",
            "[Epoch 18/20] [Batch 133/134] [Loss: 0.008709 (0.027835), Acc: 100.00% (99.07%)]\n",
            "train , acc: 99.06716417910448\n",
            "\n",
            "--- Epoch 19 ---\n",
            "\n",
            "--- Phase train ---\n",
            "[Epoch 19/20] [Batch 133/134] [Loss: 0.001118 (0.025234), Acc: 100.00% (98.97%)]\n",
            "train , acc: 98.97388059701493\n"
          ],
          "name": "stdout"
        }
      ]
    },
    {
      "cell_type": "code",
      "metadata": {
        "id": "QoXZ08iHXbD2",
        "colab": {
          "base_uri": "https://localhost:8080/"
        },
        "outputId": "6168f4ae-a8a7-4685-988d-2ad716e1bcb9"
      },
      "source": [
        "loss_all"
      ],
      "execution_count": null,
      "outputs": [
        {
          "output_type": "execute_result",
          "data": {
            "text/plain": [
              "[1.1568952628147247,\n",
              " 1.0362272541692008,\n",
              " 0.9934065567690935,\n",
              " 0.9783221021461398,\n",
              " 0.8761686785007591,\n",
              " 0.8646170404086362,\n",
              " 0.761877568059865,\n",
              " 0.6649556874780596,\n",
              " 0.606663553005974,\n",
              " 0.5135648240327453,\n",
              " 0.323571447486322,\n",
              " 0.3241135750320324,\n",
              " 0.2026443955113004,\n",
              " 0.16139609268991228,\n",
              " 0.10345816546354833,\n",
              " 0.08032113505626669,\n",
              " 0.13033530356322226,\n",
              " 0.05547422888227303,\n",
              " 0.027834619092501855,\n",
              " 0.025233737588656137]"
            ]
          },
          "metadata": {
            "tags": []
          },
          "execution_count": 23
        }
      ]
    },
    {
      "cell_type": "code",
      "metadata": {
        "id": "YtVNjFyeWVrd",
        "colab": {
          "base_uri": "https://localhost:8080/",
          "height": 350
        },
        "outputId": "e0d65c83-2112-47c3-c6a7-43fcb81dcad3"
      },
      "source": [
        "error_plot(loss_all)"
      ],
      "execution_count": null,
      "outputs": [
        {
          "output_type": "display_data",
          "data": {
            "image/png": "[encoded data removed]",
            "text/plain": [
              "<Figure size 720x360 with 1 Axes>"
            ]
          },
          "metadata": {
            "tags": [],
            "needs_background": "light"
          }
        }
      ]
    },
    {
      "cell_type": "code",
      "metadata": {
        "id": "dybBWSyyWZfY",
        "colab": {
          "base_uri": "https://localhost:8080/",
          "height": 350
        },
        "outputId": "23b3951f-2a57-40b4-a6c6-7fcdf96e359a"
      },
      "source": [
        "acc_plot(acc_all)"
      ],
      "execution_count": null,
      "outputs": [
        {
          "output_type": "display_data",
          "data": {
            "image/png": "[encoded data removed]",
            "text/plain": [
              "<Figure size 720x360 with 1 Axes>"
            ]
          },
          "metadata": {
            "tags": [],
            "needs_background": "light"
          }
        }
      ]
    },
    {
      "cell_type": "markdown",
      "metadata": {
        "id": "4HVgFH6MXXf_"
      },
      "source": [
        "# TESTING"
      ]
    },
    {
      "cell_type": "code",
      "metadata": {
        "id": "Anjb5zMhu10-"
      },
      "source": [
        "# UCF3\n",
        "PATH = '/content/drive/My Drive/Datasets/weights_UCF3/c3d_19.h5'"
      ],
      "execution_count": null,
      "outputs": []
    },
    {
      "cell_type": "code",
      "metadata": {
        "id": "N49XKR7BXWf9",
        "colab": {
          "base_uri": "https://localhost:8080/"
        },
        "outputId": "1581e5e9-1e88-4a64-fae7-d38e13a1cffa"
      },
      "source": [
        "from model import resnet50\n",
        "model = resnet50(class_num=8).to('cuda')\n",
        "model.load_state_dict(torch.load(PATH))\n",
        "# model.eval()"
      ],
      "execution_count": null,
      "outputs": [
        {
          "output_type": "execute_result",
          "data": {
            "text/plain": [
              "<All keys matched successfully>"
            ]
          },
          "metadata": {
            "tags": []
          },
          "execution_count": 27
        }
      ]
    },
    {
      "cell_type": "code",
      "metadata": {
        "id": "-x4z8j7Qa6Cy"
      },
      "source": [
        "# TESTING ZONE #\n",
        "\n",
        "from sklearn.metrics import confusion_matrix\n",
        "from torch.autograd import Variable\n",
        "\n",
        "phase = 'test'\n",
        "epoch_metrics = {\"loss\": [], \"acc\": []}\n",
        "\n",
        "predlist=torch.zeros(0,dtype=torch.long, device='cpu')\n",
        "lbllist=torch.zeros(0,dtype=torch.long, device='cpu')\n",
        "\n",
        "for batch_i, (X, y) in enumerate(dataloaders_test[phase]):\n",
        "    image_sequences = Variable(X.to(device), requires_grad=True)\n",
        "    labels = Variable(y.to(device), requires_grad=False)\n",
        "    optimizer.zero_grad()\n",
        "    predictions = model(image_sequences)\n",
        "\n",
        "    _, preds = torch.max(predictions, 1)\n",
        "    predlist=torch.cat([predlist, preds.view(-1).cpu()])\n",
        "    lbllist=torch.cat([lbllist, labels.view(-1).cpu()])\n",
        "\n",
        "    loss = cls_criterion(predictions, labels)\n",
        "    acc = 100 * (predictions.detach().argmax(1) == labels).cpu().numpy().mean()\n",
        "    # print('acc : ',acc,' -- loss : ',loss.item())\n",
        "    epoch_metrics[\"loss\"].append(loss.item())\n",
        "    epoch_metrics[\"acc\"].append(acc)\n",
        "\n",
        "# print(predlist)\n",
        "# print(lbllist)\n",
        "predlistCPU = predlist.cpu().detach().numpy()\n",
        "lbllistCPU = lbllist.cpu().detach().numpy()\n",
        "conf_mat = confusion_matrix(predlistCPU,lbllistCPU)\n",
        "# print(conf_mat)"
      ],
      "execution_count": null,
      "outputs": []
    },
    {
      "cell_type": "code",
      "metadata": {
        "id": "Zs8Oc76pIV9B"
      },
      "source": [
        "# CONFUSION MATRIX FUNCTION #\n",
        "import itertools\n",
        "import numpy as np\n",
        "import matplotlib.pyplot as plt\n",
        "\n",
        "def plot_confusion_matrix(cm, classes, normalize=False, title='Confusion matrix', cmap=plt.cm.Blues):\n",
        "    if normalize:\n",
        "        cm = cm.astype('float') / cm.sum(axis=1)[:, np.newaxis]\n",
        "        print(\"Normalized confusion matrix\")\n",
        "    else:\n",
        "        print('Confusion matrix, without normalization')\n",
        "\n",
        "    # print(cm)\n",
        "    plt.imshow(cm, interpolation='nearest', cmap=cmap)\n",
        "    plt.title(title)\n",
        "    plt.colorbar()\n",
        "    tick_marks = np.arange(len(classes))\n",
        "    plt.xticks(tick_marks, classes, rotation=45)\n",
        "    plt.yticks(tick_marks, classes)\n",
        "\n",
        "    fmt = '.2f' if normalize else 'd'\n",
        "    thresh = cm.max() / 2.\n",
        "    for i, j in itertools.product(range(cm.shape[0]), range(cm.shape[1])):\n",
        "        plt.text(j, i, format(cm[i, j], fmt), horizontalalignment=\"center\", color=\"white\" if cm[i, j] > thresh else \"black\")\n",
        "\n",
        "    plt.tight_layout()\n",
        "    plt.ylabel('True label')\n",
        "    plt.xlabel('Predicted label')"
      ],
      "execution_count": null,
      "outputs": []
    },
    {
      "cell_type": "code",
      "metadata": {
        "id": "fc93-Q1QJGLW",
        "colab": {
          "base_uri": "https://localhost:8080/",
          "height": 328
        },
        "outputId": "126e380f-4bef-46ed-dcc6-8eb9b096abcd"
      },
      "source": [
        "plot_confusion_matrix(conf_mat, classes, normalize=True, title='Confusion matrix', cmap=plt.cm.Blues)"
      ],
      "execution_count": null,
      "outputs": [
        {
          "output_type": "stream",
          "text": [
            "Normalized confusion matrix\n"
          ],
          "name": "stdout"
        },
        {
          "output_type": "display_data",
          "data": {
            "image/png": "[encoded data removed]",
            "text/plain": [
              "<Figure size 432x288 with 2 Axes>"
            ]
          },
          "metadata": {
            "tags": [],
            "needs_background": "light"
          }
        }
      ]
    },
    {
      "cell_type": "code",
      "metadata": {
        "id": "brkw-7v2Kly3",
        "colab": {
          "base_uri": "https://localhost:8080/"
        },
        "outputId": "542740a1-fe95-48bb-95ac-5958a064c967"
      },
      "source": [
        "from sklearn.metrics import classification_report\n",
        "print(classification_report(lbllistCPU, predlistCPU, target_names=classes))"
      ],
      "execution_count": null,
      "outputs": [
        {
          "output_type": "stream",
          "text": [
            "              precision    recall  f1-score   support\n",
            "\n",
            "     OUTdoor       0.99      1.00      0.99       274\n",
            "      INdoor       1.00      0.98      0.99       111\n",
            "       Risse       0.99      0.99      0.99        74\n",
            "\n",
            "    accuracy                           0.99       459\n",
            "   macro avg       0.99      0.99      0.99       459\n",
            "weighted avg       0.99      0.99      0.99       459\n",
            "\n"
          ],
          "name": "stdout"
        }
      ]
    },
    {
      "cell_type": "code",
      "metadata": {
        "id": "8HmTjhWYsLkH",
        "colab": {
          "base_uri": "https://localhost:8080/"
        },
        "outputId": "718244c2-3122-4dbe-80aa-5b07cc44b863"
      },
      "source": [
        "# ACC E LOSS #\n",
        "print('acc_value : ', np.mean(epoch_metrics[\"acc\"]))\n",
        "print('loss_value : ', np.mean(epoch_metrics[\"loss\"]))"
      ],
      "execution_count": null,
      "outputs": [
        {
          "output_type": "stream",
          "text": [
            "acc_value :  99.13793103448276\n",
            "loss_value :  0.02260926799022729\n"
          ],
          "name": "stdout"
        }
      ]
    }
  ]
}